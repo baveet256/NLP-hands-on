{
 "cells": [
  {
   "cell_type": "code",
   "execution_count": 6,
   "id": "3ea60e58",
   "metadata": {},
   "outputs": [
    {
     "name": "stdout",
     "output_type": "stream",
     "text": [
      "['elonmusk', 'teslarati', 'dummy_tesla', 'dummy_2_tesla']\n"
     ]
    }
   ],
   "source": [
    "import re\n",
    "text = '''\n",
    "Follow our leader Elon musk on twitter here: https://twitter.com/elonmusk, more information \n",
    "on Tesla's products can be found at https://www.tesla.com/. Also here are leading influencers \n",
    "for tesla related news,\n",
    "https://twitter.com/teslarati\n",
    "https://twitter.com/dummy_tesla\n",
    "https://twitter.com/dummy_2_tesla\n",
    "'''\n",
    "pattern = 'https://twitter.com/([a-zA-z0-9_]+)'\n",
    "matches = re.findall(pattern, text)\n",
    "print(matches)"
   ]
  },
  {
   "cell_type": "markdown",
   "id": "f6f5b96b",
   "metadata": {},
   "source": [
    "## 2 ##"
   ]
  },
  {
   "cell_type": "code",
   "execution_count": 4,
   "id": "89545f52",
   "metadata": {},
   "outputs": [],
   "source": [
    "pattern2 ='Concentration of Risk[^A-Za-z](.*)'\n"
   ]
  },
  {
   "cell_type": "code",
   "execution_count": 5,
   "id": "15700de6",
   "metadata": {},
   "outputs": [],
   "source": [
    "##3##"
   ]
  },
  {
   "cell_type": "code",
   "execution_count": null,
   "id": "83569cfa",
   "metadata": {},
   "outputs": [],
   "source": [
    "pattern3 = 'FY\\d{4} (?:Q[1-4]|S[1-2])'"
   ]
  }
 ],
 "metadata": {
  "kernelspec": {
   "display_name": "Python 3 (ipykernel)",
   "language": "python",
   "name": "python3"
  },
  "language_info": {
   "codemirror_mode": {
    "name": "ipython",
    "version": 3
   },
   "file_extension": ".py",
   "mimetype": "text/x-python",
   "name": "python",
   "nbconvert_exporter": "python",
   "pygments_lexer": "ipython3",
   "version": "3.9.12"
  }
 },
 "nbformat": 4,
 "nbformat_minor": 5
}
