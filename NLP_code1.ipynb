{
 "cells": [
  {
   "cell_type": "code",
   "execution_count": 1,
   "id": "b4f5dcbd",
   "metadata": {},
   "outputs": [],
   "source": [
    "import re\n"
   ]
  },
  {
   "cell_type": "code",
   "execution_count": 22,
   "id": "efcc50a1",
   "metadata": {},
   "outputs": [],
   "source": [
    "chat1 = 'My name is baveet, my phone number is 0123456789, email:201901256@daiict.ac.in'\n",
    "chat2 = 'My name is Antman, my phone number is 0123986789,0123986789, email:201901265@daiict.ac.in'\n",
    "chat3 = 'My name is hello, my phone number is (017)-745-6789 ,0123456789, email:201901221@daiict.ac.in,abc@xyz.com'"
   ]
  },
  {
   "cell_type": "code",
   "execution_count": 11,
   "id": "d79b9198",
   "metadata": {},
   "outputs": [
    {
     "name": "stdout",
     "output_type": "stream",
     "text": [
      "['0123456789']\n"
     ]
    }
   ],
   "source": [
    "pattern = '\\d{10}'\n",
    "matches = re.findall(pattern,chat1)\n",
    "print(matches)"
   ]
  },
  {
   "cell_type": "code",
   "execution_count": 10,
   "id": "da0362e2",
   "metadata": {},
   "outputs": [
    {
     "name": "stdout",
     "output_type": "stream",
     "text": [
      "['(017)-745-6789']\n"
     ]
    }
   ],
   "source": [
    "pattern2 = '\\(\\d{3}\\)-\\d{3}-\\d{4}'\n",
    "matches2 = re.findall(pattern2,chat3)\n",
    "print(matches2)"
   ]
  },
  {
   "cell_type": "code",
   "execution_count": 15,
   "id": "288cf554",
   "metadata": {},
   "outputs": [
    {
     "name": "stdout",
     "output_type": "stream",
     "text": [
      "['(017)-745-6789', '0123456789']\n"
     ]
    }
   ],
   "source": [
    "pattern3 =  '\\d{10}|\\(\\d{3}\\)-\\d{3}-\\d{4}'\n",
    "matches3 = re.findall(pattern3,chat3)   \n",
    "print(matches3)"
   ]
  },
  {
   "cell_type": "code",
   "execution_count": 23,
   "id": "044d5621",
   "metadata": {},
   "outputs": [
    {
     "name": "stdout",
     "output_type": "stream",
     "text": [
      "['201901221@daiict.ac.in', 'abc@xyz.com']\n"
     ]
    }
   ],
   "source": [
    "#for emails\n",
    "pattern4 = '[A-Z0-9a-z_]*@[A-Z0-9a-z_]*\\.[a-zA-Z]*\\.[a-zA-Z]*|[A-Z0-9a-z_]*@[A-Z0-9a-z_]*\\.[a-zA-Z]*'\n",
    "matches4 = re.findall(pattern4,chat3) \n",
    "print(matches4)"
   ]
  },
  {
   "cell_type": "code",
   "execution_count": 25,
   "id": "f3494fce",
   "metadata": {},
   "outputs": [],
   "source": [
    "##order number pattern matching \n",
    "order1 ='codebasics: Hello, I am having an issue with my order # 412889912 , ph:9876543210'\n",
    "order2 ='codebasics: I have a problem with my order number 412889912'\n",
    "order3 ='codebasics: My order 412889912 is having an issue, I was charged 300$ when online it says 280$'"
   ]
  },
  {
   "cell_type": "code",
   "execution_count": 26,
   "id": "936dc45c",
   "metadata": {},
   "outputs": [
    {
     "name": "stdout",
     "output_type": "stream",
     "text": [
      "['412889912']\n"
     ]
    }
   ],
   "source": [
    "#we want order number and not just a string of numbers\n",
    "patterno = 'order[^\\d]*(\\d*)'  \n",
    "## () used for retrive something from that group\n",
    "# ^ used as a not of something.\n",
    "matcheso = re.findall(patterno,order1)\n",
    "print(matcheso)\n"
   ]
  },
  {
   "cell_type": "code",
   "execution_count": null,
   "id": "463c5d8b",
   "metadata": {},
   "outputs": [],
   "source": []
  }
 ],
 "metadata": {
  "kernelspec": {
   "display_name": "Python 3 (ipykernel)",
   "language": "python",
   "name": "python3"
  },
  "language_info": {
   "codemirror_mode": {
    "name": "ipython",
    "version": 3
   },
   "file_extension": ".py",
   "mimetype": "text/x-python",
   "name": "python",
   "nbconvert_exporter": "python",
   "pygments_lexer": "ipython3",
   "version": "3.9.12"
  }
 },
 "nbformat": 4,
 "nbformat_minor": 5
}
